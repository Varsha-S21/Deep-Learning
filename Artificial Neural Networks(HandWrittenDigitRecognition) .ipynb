{
  "nbformat": 4,
  "nbformat_minor": 0,
  "metadata": {
    "colab": {
      "name": "ANN(HandWrittenDigitRecognition).ipynb",
      "provenance": []
    },
    "kernelspec": {
      "name": "python3",
      "display_name": "Python 3"
    },
    "language_info": {
      "name": "python"
    }
  },
  "cells": [
    {
      "cell_type": "code",
      "metadata": {
        "id": "SYEUWnPkrb8o"
      },
      "source": [
        "import numpy as np\n",
        "import tensorflow as tf\n",
        "from tensorflow import keras\n",
        "import matplotlib.pyplot as plt\n",
        "import seaborn as sns"
      ],
      "execution_count": 2,
      "outputs": []
    },
    {
      "cell_type": "markdown",
      "metadata": {
        "id": "2FyY0APwsGli"
      },
      "source": [
        "# Importing dataset\n"
      ]
    },
    {
      "cell_type": "code",
      "metadata": {
        "id": "qBkUOtjzsXST"
      },
      "source": [
        "data=keras.datasets.mnist"
      ],
      "execution_count": 3,
      "outputs": []
    },
    {
      "cell_type": "code",
      "metadata": {
        "colab": {
          "base_uri": "https://localhost:8080/"
        },
        "id": "bNcHrTmFsjI5",
        "outputId": "5e86396c-3d1c-4f15-e495-e19314af0ea2"
      },
      "source": [
        "data"
      ],
      "execution_count": 4,
      "outputs": [
        {
          "output_type": "execute_result",
          "data": {
            "text/plain": [
              "<module 'keras.api._v2.keras.datasets.mnist' from '/usr/local/lib/python3.7/dist-packages/keras/api/_v2/keras/datasets/mnist/__init__.py'>"
            ]
          },
          "metadata": {},
          "execution_count": 4
        }
      ]
    },
    {
      "cell_type": "code",
      "metadata": {
        "colab": {
          "base_uri": "https://localhost:8080/"
        },
        "id": "GSinyQ7pskxX",
        "outputId": "d7e3e3ae-2f70-4ebc-f32b-4e839dffade5"
      },
      "source": [
        "(x_train,y_train),(x_test,y_test)=data.load_data()"
      ],
      "execution_count": 5,
      "outputs": [
        {
          "output_type": "stream",
          "name": "stdout",
          "text": [
            "Downloading data from https://storage.googleapis.com/tensorflow/tf-keras-datasets/mnist.npz\n",
            "11493376/11490434 [==============================] - 0s 0us/step\n",
            "11501568/11490434 [==============================] - 0s 0us/step\n"
          ]
        }
      ]
    },
    {
      "cell_type": "code",
      "metadata": {
        "colab": {
          "base_uri": "https://localhost:8080/"
        },
        "id": "2UDYgg4Csk0g",
        "outputId": "4617bc02-e210-4f6c-9ffa-1e8a71bb4bf6"
      },
      "source": [
        "x_train.shape #60k images 28 rows 28 cols"
      ],
      "execution_count": 6,
      "outputs": [
        {
          "output_type": "execute_result",
          "data": {
            "text/plain": [
              "(60000, 28, 28)"
            ]
          },
          "metadata": {},
          "execution_count": 6
        }
      ]
    },
    {
      "cell_type": "code",
      "metadata": {
        "colab": {
          "base_uri": "https://localhost:8080/"
        },
        "id": "81Jl763tsk4A",
        "outputId": "41e18273-cfc9-4dbc-ce04-d05c746fa793"
      },
      "source": [
        "x_test.shape"
      ],
      "execution_count": 7,
      "outputs": [
        {
          "output_type": "execute_result",
          "data": {
            "text/plain": [
              "(10000, 28, 28)"
            ]
          },
          "metadata": {},
          "execution_count": 7
        }
      ]
    },
    {
      "cell_type": "code",
      "metadata": {
        "colab": {
          "base_uri": "https://localhost:8080/"
        },
        "id": "18S817a_slH5",
        "outputId": "bae1d773-cc3c-45ae-96f7-7c9157e1bf84"
      },
      "source": [
        "x_train[0]"
      ],
      "execution_count": 8,
      "outputs": [
        {
          "output_type": "execute_result",
          "data": {
            "text/plain": [
              "array([[  0,   0,   0,   0,   0,   0,   0,   0,   0,   0,   0,   0,   0,\n",
              "          0,   0,   0,   0,   0,   0,   0,   0,   0,   0,   0,   0,   0,\n",
              "          0,   0],\n",
              "       [  0,   0,   0,   0,   0,   0,   0,   0,   0,   0,   0,   0,   0,\n",
              "          0,   0,   0,   0,   0,   0,   0,   0,   0,   0,   0,   0,   0,\n",
              "          0,   0],\n",
              "       [  0,   0,   0,   0,   0,   0,   0,   0,   0,   0,   0,   0,   0,\n",
              "          0,   0,   0,   0,   0,   0,   0,   0,   0,   0,   0,   0,   0,\n",
              "          0,   0],\n",
              "       [  0,   0,   0,   0,   0,   0,   0,   0,   0,   0,   0,   0,   0,\n",
              "          0,   0,   0,   0,   0,   0,   0,   0,   0,   0,   0,   0,   0,\n",
              "          0,   0],\n",
              "       [  0,   0,   0,   0,   0,   0,   0,   0,   0,   0,   0,   0,   0,\n",
              "          0,   0,   0,   0,   0,   0,   0,   0,   0,   0,   0,   0,   0,\n",
              "          0,   0],\n",
              "       [  0,   0,   0,   0,   0,   0,   0,   0,   0,   0,   0,   0,   3,\n",
              "         18,  18,  18, 126, 136, 175,  26, 166, 255, 247, 127,   0,   0,\n",
              "          0,   0],\n",
              "       [  0,   0,   0,   0,   0,   0,   0,   0,  30,  36,  94, 154, 170,\n",
              "        253, 253, 253, 253, 253, 225, 172, 253, 242, 195,  64,   0,   0,\n",
              "          0,   0],\n",
              "       [  0,   0,   0,   0,   0,   0,   0,  49, 238, 253, 253, 253, 253,\n",
              "        253, 253, 253, 253, 251,  93,  82,  82,  56,  39,   0,   0,   0,\n",
              "          0,   0],\n",
              "       [  0,   0,   0,   0,   0,   0,   0,  18, 219, 253, 253, 253, 253,\n",
              "        253, 198, 182, 247, 241,   0,   0,   0,   0,   0,   0,   0,   0,\n",
              "          0,   0],\n",
              "       [  0,   0,   0,   0,   0,   0,   0,   0,  80, 156, 107, 253, 253,\n",
              "        205,  11,   0,  43, 154,   0,   0,   0,   0,   0,   0,   0,   0,\n",
              "          0,   0],\n",
              "       [  0,   0,   0,   0,   0,   0,   0,   0,   0,  14,   1, 154, 253,\n",
              "         90,   0,   0,   0,   0,   0,   0,   0,   0,   0,   0,   0,   0,\n",
              "          0,   0],\n",
              "       [  0,   0,   0,   0,   0,   0,   0,   0,   0,   0,   0, 139, 253,\n",
              "        190,   2,   0,   0,   0,   0,   0,   0,   0,   0,   0,   0,   0,\n",
              "          0,   0],\n",
              "       [  0,   0,   0,   0,   0,   0,   0,   0,   0,   0,   0,  11, 190,\n",
              "        253,  70,   0,   0,   0,   0,   0,   0,   0,   0,   0,   0,   0,\n",
              "          0,   0],\n",
              "       [  0,   0,   0,   0,   0,   0,   0,   0,   0,   0,   0,   0,  35,\n",
              "        241, 225, 160, 108,   1,   0,   0,   0,   0,   0,   0,   0,   0,\n",
              "          0,   0],\n",
              "       [  0,   0,   0,   0,   0,   0,   0,   0,   0,   0,   0,   0,   0,\n",
              "         81, 240, 253, 253, 119,  25,   0,   0,   0,   0,   0,   0,   0,\n",
              "          0,   0],\n",
              "       [  0,   0,   0,   0,   0,   0,   0,   0,   0,   0,   0,   0,   0,\n",
              "          0,  45, 186, 253, 253, 150,  27,   0,   0,   0,   0,   0,   0,\n",
              "          0,   0],\n",
              "       [  0,   0,   0,   0,   0,   0,   0,   0,   0,   0,   0,   0,   0,\n",
              "          0,   0,  16,  93, 252, 253, 187,   0,   0,   0,   0,   0,   0,\n",
              "          0,   0],\n",
              "       [  0,   0,   0,   0,   0,   0,   0,   0,   0,   0,   0,   0,   0,\n",
              "          0,   0,   0,   0, 249, 253, 249,  64,   0,   0,   0,   0,   0,\n",
              "          0,   0],\n",
              "       [  0,   0,   0,   0,   0,   0,   0,   0,   0,   0,   0,   0,   0,\n",
              "          0,  46, 130, 183, 253, 253, 207,   2,   0,   0,   0,   0,   0,\n",
              "          0,   0],\n",
              "       [  0,   0,   0,   0,   0,   0,   0,   0,   0,   0,   0,   0,  39,\n",
              "        148, 229, 253, 253, 253, 250, 182,   0,   0,   0,   0,   0,   0,\n",
              "          0,   0],\n",
              "       [  0,   0,   0,   0,   0,   0,   0,   0,   0,   0,  24, 114, 221,\n",
              "        253, 253, 253, 253, 201,  78,   0,   0,   0,   0,   0,   0,   0,\n",
              "          0,   0],\n",
              "       [  0,   0,   0,   0,   0,   0,   0,   0,  23,  66, 213, 253, 253,\n",
              "        253, 253, 198,  81,   2,   0,   0,   0,   0,   0,   0,   0,   0,\n",
              "          0,   0],\n",
              "       [  0,   0,   0,   0,   0,   0,  18, 171, 219, 253, 253, 253, 253,\n",
              "        195,  80,   9,   0,   0,   0,   0,   0,   0,   0,   0,   0,   0,\n",
              "          0,   0],\n",
              "       [  0,   0,   0,   0,  55, 172, 226, 253, 253, 253, 253, 244, 133,\n",
              "         11,   0,   0,   0,   0,   0,   0,   0,   0,   0,   0,   0,   0,\n",
              "          0,   0],\n",
              "       [  0,   0,   0,   0, 136, 253, 253, 253, 212, 135, 132,  16,   0,\n",
              "          0,   0,   0,   0,   0,   0,   0,   0,   0,   0,   0,   0,   0,\n",
              "          0,   0],\n",
              "       [  0,   0,   0,   0,   0,   0,   0,   0,   0,   0,   0,   0,   0,\n",
              "          0,   0,   0,   0,   0,   0,   0,   0,   0,   0,   0,   0,   0,\n",
              "          0,   0],\n",
              "       [  0,   0,   0,   0,   0,   0,   0,   0,   0,   0,   0,   0,   0,\n",
              "          0,   0,   0,   0,   0,   0,   0,   0,   0,   0,   0,   0,   0,\n",
              "          0,   0],\n",
              "       [  0,   0,   0,   0,   0,   0,   0,   0,   0,   0,   0,   0,   0,\n",
              "          0,   0,   0,   0,   0,   0,   0,   0,   0,   0,   0,   0,   0,\n",
              "          0,   0]], dtype=uint8)"
            ]
          },
          "metadata": {},
          "execution_count": 8
        }
      ]
    },
    {
      "cell_type": "code",
      "metadata": {
        "colab": {
          "base_uri": "https://localhost:8080/"
        },
        "id": "1OBTPtQax6l1",
        "outputId": "aafd227d-83dd-42ff-81d7-f3652a837c5b"
      },
      "source": [
        "x_train.ndim"
      ],
      "execution_count": 9,
      "outputs": [
        {
          "output_type": "execute_result",
          "data": {
            "text/plain": [
              "3"
            ]
          },
          "metadata": {},
          "execution_count": 9
        }
      ]
    },
    {
      "cell_type": "code",
      "metadata": {
        "colab": {
          "base_uri": "https://localhost:8080/"
        },
        "id": "buqvpIBbx-9W",
        "outputId": "d0bd067a-bbef-4dca-89f2-bfaadfb9ba7b"
      },
      "source": [
        "x_train[0].ndim"
      ],
      "execution_count": 10,
      "outputs": [
        {
          "output_type": "execute_result",
          "data": {
            "text/plain": [
              "2"
            ]
          },
          "metadata": {},
          "execution_count": 10
        }
      ]
    },
    {
      "cell_type": "code",
      "metadata": {
        "colab": {
          "base_uri": "https://localhost:8080/"
        },
        "id": "8LVkmXMZtw_a",
        "outputId": "1d286de6-a34c-46b7-b60e-f18bcb6645d3"
      },
      "source": [
        "x_train[0][7]"
      ],
      "execution_count": 11,
      "outputs": [
        {
          "output_type": "execute_result",
          "data": {
            "text/plain": [
              "array([  0,   0,   0,   0,   0,   0,   0,  49, 238, 253, 253, 253, 253,\n",
              "       253, 253, 253, 253, 251,  93,  82,  82,  56,  39,   0,   0,   0,\n",
              "         0,   0], dtype=uint8)"
            ]
          },
          "metadata": {},
          "execution_count": 11
        }
      ]
    },
    {
      "cell_type": "code",
      "metadata": {
        "colab": {
          "base_uri": "https://localhost:8080/",
          "height": 293
        },
        "id": "jg5spGDbtxE2",
        "outputId": "215e447b-a3c4-47a6-f0e1-6cb5d15f103b"
      },
      "source": [
        "plt.matshow(x_train[0])"
      ],
      "execution_count": 12,
      "outputs": [
        {
          "output_type": "execute_result",
          "data": {
            "text/plain": [
              "<matplotlib.image.AxesImage at 0x7fdce73673d0>"
            ]
          },
          "metadata": {},
          "execution_count": 12
        },
        {
          "output_type": "display_data",
          "data": {
            "image/png": "[encoded data removed]",
            "text/plain": [
              "<Figure size 288x288 with 1 Axes>"
            ]
          },
          "metadata": {
            "needs_background": "light"
          }
        }
      ]
    },
    {
      "cell_type": "code",
      "metadata": {
        "colab": {
          "base_uri": "https://localhost:8080/",
          "height": 293
        },
        "id": "G_wdPtmltxH5",
        "outputId": "0ac00e31-4a59-4b1e-d66c-b437360a16b6"
      },
      "source": [
        "plt.matshow(x_train[7])"
      ],
      "execution_count": 13,
      "outputs": [
        {
          "output_type": "execute_result",
          "data": {
            "text/plain": [
              "<matplotlib.image.AxesImage at 0x7fdce6e4d650>"
            ]
          },
          "metadata": {},
          "execution_count": 13
        },
        {
          "output_type": "display_data",
          "data": {
            "image/png": "[encoded data removed]",
            "text/plain": [
              "<Figure size 288x288 with 1 Axes>"
            ]
          },
          "metadata": {
            "needs_background": "light"
          }
        }
      ]
    },
    {
      "cell_type": "code",
      "metadata": {
        "colab": {
          "base_uri": "https://localhost:8080/",
          "height": 1000
        },
        "id": "Q1EFiWd4txKy",
        "outputId": "9b37ac78-8845-4c68-d0b5-9f745c12009f"
      },
      "source": [
        "#for first 6 datapoints\n",
        "for i in range(6):\n",
        "  plt.matshow(x_train[i])"
      ],
      "execution_count": 14,
      "outputs": [
        {
          "output_type": "display_data",
          "data": {
            "image/png": "[encoded data removed]",
            "text/plain": [
              "<Figure size 288x288 with 1 Axes>"
            ]
          },
          "metadata": {
            "needs_background": "light"
          }
        },
        {
          "output_type": "display_data",
          "data": {
            "image/png": "[encoded data removed]",
            "text/plain": [
              "<Figure size 288x288 with 1 Axes>"
            ]
          },
          "metadata": {
            "needs_background": "light"
          }
        },
        {
          "output_type": "display_data",
          "data": {
            "image/png": "[encoded data removed]",
            "text/plain": [
              "<Figure size 288x288 with 1 Axes>"
            ]
          },
          "metadata": {
            "needs_background": "light"
          }
        },
        {
          "output_type": "display_data",
          "data": {
            "image/png": "[encoded data removed]",
            "text/plain": [
              "<Figure size 288x288 with 1 Axes>"
            ]
          },
          "metadata": {
            "needs_background": "light"
          }
        },
        {
          "output_type": "display_data",
          "data": {
            "image/png": "[encoded data removed]",
            "text/plain": [
              "<Figure size 288x288 with 1 Axes>"
            ]
          },
          "metadata": {
            "needs_background": "light"
          }
        },
        {
          "output_type": "display_data",
          "data": {
            "image/png": "[encoded data removed]",
            "text/plain": [
              "<Figure size 288x288 with 1 Axes>"
            ]
          },
          "metadata": {
            "needs_background": "light"
          }
        }
      ]
    },
    {
      "cell_type": "code",
      "metadata": {
        "colab": {
          "base_uri": "https://localhost:8080/"
        },
        "id": "0reHRJy-txNc",
        "outputId": "2a63cdff-eaa0-4bee-bfef-57f4b402e306"
      },
      "source": [
        "#testing set\n",
        "x_test.shape"
      ],
      "execution_count": 15,
      "outputs": [
        {
          "output_type": "execute_result",
          "data": {
            "text/plain": [
              "(10000, 28, 28)"
            ]
          },
          "metadata": {},
          "execution_count": 15
        }
      ]
    },
    {
      "cell_type": "code",
      "metadata": {
        "colab": {
          "base_uri": "https://localhost:8080/"
        },
        "id": "rzaaVCZEtxQk",
        "outputId": "41e7b7a8-39bd-4137-8d44-4fc4d7a201b1"
      },
      "source": [
        "y_train.shape"
      ],
      "execution_count": 16,
      "outputs": [
        {
          "output_type": "execute_result",
          "data": {
            "text/plain": [
              "(60000,)"
            ]
          },
          "metadata": {},
          "execution_count": 16
        }
      ]
    },
    {
      "cell_type": "code",
      "metadata": {
        "colab": {
          "base_uri": "https://localhost:8080/"
        },
        "id": "k-9cbEi_txTA",
        "outputId": "b13b61bf-3e18-406f-dd51-596955fc582c"
      },
      "source": [
        "y_test.shape"
      ],
      "execution_count": 17,
      "outputs": [
        {
          "output_type": "execute_result",
          "data": {
            "text/plain": [
              "(10000,)"
            ]
          },
          "metadata": {},
          "execution_count": 17
        }
      ]
    },
    {
      "cell_type": "code",
      "metadata": {
        "colab": {
          "base_uri": "https://localhost:8080/"
        },
        "id": "AUOoIRyytxV9",
        "outputId": "70bf3edd-2d34-4292-d2fe-ebb38040ee50"
      },
      "source": [
        "#values of the dataset upto 10th position\n",
        "y_train[:10]"
      ],
      "execution_count": 18,
      "outputs": [
        {
          "output_type": "execute_result",
          "data": {
            "text/plain": [
              "array([5, 0, 4, 1, 9, 2, 1, 3, 1, 4], dtype=uint8)"
            ]
          },
          "metadata": {},
          "execution_count": 18
        }
      ]
    },
    {
      "cell_type": "code",
      "metadata": {
        "id": "dyq__JgutxYQ"
      },
      "source": [
        "#Flattening the x_train and x_test\n",
        "flat_x_train=x_train.reshape(len(x_train),28*28)\n",
        "flat_x_test=x_test.reshape(len(x_test),28*28)"
      ],
      "execution_count": 19,
      "outputs": []
    },
    {
      "cell_type": "code",
      "metadata": {
        "colab": {
          "base_uri": "https://localhost:8080/"
        },
        "id": "y0rFMmFStxa-",
        "outputId": "841def9f-916c-4513-8055-744da6226743"
      },
      "source": [
        "flat_x_train.shape"
      ],
      "execution_count": 20,
      "outputs": [
        {
          "output_type": "execute_result",
          "data": {
            "text/plain": [
              "(60000, 784)"
            ]
          },
          "metadata": {},
          "execution_count": 20
        }
      ]
    },
    {
      "cell_type": "code",
      "metadata": {
        "colab": {
          "base_uri": "https://localhost:8080/"
        },
        "id": "35221zA6txeW",
        "outputId": "79442a78-dfab-49b1-ae9b-dc64745bb1a5"
      },
      "source": [
        "flat_x_test.shape"
      ],
      "execution_count": 21,
      "outputs": [
        {
          "output_type": "execute_result",
          "data": {
            "text/plain": [
              "(10000, 784)"
            ]
          },
          "metadata": {},
          "execution_count": 21
        }
      ]
    },
    {
      "cell_type": "code",
      "metadata": {
        "colab": {
          "base_uri": "https://localhost:8080/"
        },
        "id": "Nnnh8mP3wm5y",
        "outputId": "6c2c90e8-8c60-4bca-f3e2-29cff4aea4e0"
      },
      "source": [
        "flat_x_train[0]"
      ],
      "execution_count": 22,
      "outputs": [
        {
          "output_type": "execute_result",
          "data": {
            "text/plain": [
              "array([  0,   0,   0,   0,   0,   0,   0,   0,   0,   0,   0,   0,   0,\n",
              "         0,   0,   0,   0,   0,   0,   0,   0,   0,   0,   0,   0,   0,\n",
              "         0,   0,   0,   0,   0,   0,   0,   0,   0,   0,   0,   0,   0,\n",
              "         0,   0,   0,   0,   0,   0,   0,   0,   0,   0,   0,   0,   0,\n",
              "         0,   0,   0,   0,   0,   0,   0,   0,   0,   0,   0,   0,   0,\n",
              "         0,   0,   0,   0,   0,   0,   0,   0,   0,   0,   0,   0,   0,\n",
              "         0,   0,   0,   0,   0,   0,   0,   0,   0,   0,   0,   0,   0,\n",
              "         0,   0,   0,   0,   0,   0,   0,   0,   0,   0,   0,   0,   0,\n",
              "         0,   0,   0,   0,   0,   0,   0,   0,   0,   0,   0,   0,   0,\n",
              "         0,   0,   0,   0,   0,   0,   0,   0,   0,   0,   0,   0,   0,\n",
              "         0,   0,   0,   0,   0,   0,   0,   0,   0,   0,   0,   0,   0,\n",
              "         0,   0,   0,   0,   0,   0,   0,   0,   0,   3,  18,  18,  18,\n",
              "       126, 136, 175,  26, 166, 255, 247, 127,   0,   0,   0,   0,   0,\n",
              "         0,   0,   0,   0,   0,   0,   0,  30,  36,  94, 154, 170, 253,\n",
              "       253, 253, 253, 253, 225, 172, 253, 242, 195,  64,   0,   0,   0,\n",
              "         0,   0,   0,   0,   0,   0,   0,   0,  49, 238, 253, 253, 253,\n",
              "       253, 253, 253, 253, 253, 251,  93,  82,  82,  56,  39,   0,   0,\n",
              "         0,   0,   0,   0,   0,   0,   0,   0,   0,   0,  18, 219, 253,\n",
              "       253, 253, 253, 253, 198, 182, 247, 241,   0,   0,   0,   0,   0,\n",
              "         0,   0,   0,   0,   0,   0,   0,   0,   0,   0,   0,   0,   0,\n",
              "        80, 156, 107, 253, 253, 205,  11,   0,  43, 154,   0,   0,   0,\n",
              "         0,   0,   0,   0,   0,   0,   0,   0,   0,   0,   0,   0,   0,\n",
              "         0,   0,   0,  14,   1, 154, 253,  90,   0,   0,   0,   0,   0,\n",
              "         0,   0,   0,   0,   0,   0,   0,   0,   0,   0,   0,   0,   0,\n",
              "         0,   0,   0,   0,   0,   0,   0, 139, 253, 190,   2,   0,   0,\n",
              "         0,   0,   0,   0,   0,   0,   0,   0,   0,   0,   0,   0,   0,\n",
              "         0,   0,   0,   0,   0,   0,   0,   0,   0,  11, 190, 253,  70,\n",
              "         0,   0,   0,   0,   0,   0,   0,   0,   0,   0,   0,   0,   0,\n",
              "         0,   0,   0,   0,   0,   0,   0,   0,   0,   0,   0,   0,  35,\n",
              "       241, 225, 160, 108,   1,   0,   0,   0,   0,   0,   0,   0,   0,\n",
              "         0,   0,   0,   0,   0,   0,   0,   0,   0,   0,   0,   0,   0,\n",
              "         0,   0,  81, 240, 253, 253, 119,  25,   0,   0,   0,   0,   0,\n",
              "         0,   0,   0,   0,   0,   0,   0,   0,   0,   0,   0,   0,   0,\n",
              "         0,   0,   0,   0,   0,  45, 186, 253, 253, 150,  27,   0,   0,\n",
              "         0,   0,   0,   0,   0,   0,   0,   0,   0,   0,   0,   0,   0,\n",
              "         0,   0,   0,   0,   0,   0,   0,   0,  16,  93, 252, 253, 187,\n",
              "         0,   0,   0,   0,   0,   0,   0,   0,   0,   0,   0,   0,   0,\n",
              "         0,   0,   0,   0,   0,   0,   0,   0,   0,   0,   0,   0, 249,\n",
              "       253, 249,  64,   0,   0,   0,   0,   0,   0,   0,   0,   0,   0,\n",
              "         0,   0,   0,   0,   0,   0,   0,   0,   0,   0,   0,  46, 130,\n",
              "       183, 253, 253, 207,   2,   0,   0,   0,   0,   0,   0,   0,   0,\n",
              "         0,   0,   0,   0,   0,   0,   0,   0,   0,   0,   0,  39, 148,\n",
              "       229, 253, 253, 253, 250, 182,   0,   0,   0,   0,   0,   0,   0,\n",
              "         0,   0,   0,   0,   0,   0,   0,   0,   0,   0,   0,  24, 114,\n",
              "       221, 253, 253, 253, 253, 201,  78,   0,   0,   0,   0,   0,   0,\n",
              "         0,   0,   0,   0,   0,   0,   0,   0,   0,   0,   0,  23,  66,\n",
              "       213, 253, 253, 253, 253, 198,  81,   2,   0,   0,   0,   0,   0,\n",
              "         0,   0,   0,   0,   0,   0,   0,   0,   0,   0,   0,  18, 171,\n",
              "       219, 253, 253, 253, 253, 195,  80,   9,   0,   0,   0,   0,   0,\n",
              "         0,   0,   0,   0,   0,   0,   0,   0,   0,   0,   0,  55, 172,\n",
              "       226, 253, 253, 253, 253, 244, 133,  11,   0,   0,   0,   0,   0,\n",
              "         0,   0,   0,   0,   0,   0,   0,   0,   0,   0,   0,   0,   0,\n",
              "       136, 253, 253, 253, 212, 135, 132,  16,   0,   0,   0,   0,   0,\n",
              "         0,   0,   0,   0,   0,   0,   0,   0,   0,   0,   0,   0,   0,\n",
              "         0,   0,   0,   0,   0,   0,   0,   0,   0,   0,   0,   0,   0,\n",
              "         0,   0,   0,   0,   0,   0,   0,   0,   0,   0,   0,   0,   0,\n",
              "         0,   0,   0,   0,   0,   0,   0,   0,   0,   0,   0,   0,   0,\n",
              "         0,   0,   0,   0,   0,   0,   0,   0,   0,   0,   0,   0,   0,\n",
              "         0,   0,   0,   0,   0,   0,   0,   0,   0,   0,   0,   0,   0,\n",
              "         0,   0,   0,   0,   0,   0,   0,   0,   0,   0,   0,   0,   0,\n",
              "         0,   0,   0,   0], dtype=uint8)"
            ]
          },
          "metadata": {},
          "execution_count": 22
        }
      ]
    },
    {
      "cell_type": "code",
      "metadata": {
        "colab": {
          "base_uri": "https://localhost:8080/"
        },
        "id": "Kyxm8z0Swm8e",
        "outputId": "616e5a83-b768-49ae-e27e-e4a85307479a"
      },
      "source": [
        "flat_x_train.ndim"
      ],
      "execution_count": 23,
      "outputs": [
        {
          "output_type": "execute_result",
          "data": {
            "text/plain": [
              "2"
            ]
          },
          "metadata": {},
          "execution_count": 23
        }
      ]
    },
    {
      "cell_type": "code",
      "metadata": {
        "colab": {
          "base_uri": "https://localhost:8080/"
        },
        "id": "T5Drgp7swnAD",
        "outputId": "8ce06310-9836-41a6-c6c7-a0eba00ab5e1"
      },
      "source": [
        "flat_x_train[0].ndim"
      ],
      "execution_count": 24,
      "outputs": [
        {
          "output_type": "execute_result",
          "data": {
            "text/plain": [
              "1"
            ]
          },
          "metadata": {},
          "execution_count": 24
        }
      ]
    },
    {
      "cell_type": "markdown",
      "metadata": {
        "id": "7reEjLQ9zsU3"
      },
      "source": [
        "# Keras Sequential Units(Neuron)\n",
        "# Activation"
      ]
    },
    {
      "cell_type": "code",
      "metadata": {
        "id": "o0uDeW5bwnK1"
      },
      "source": [
        "model=keras.Sequential([\n",
        "                        keras.layers.Dense(units=10,\n",
        "                                           input_shape=(784,),\n",
        "                                           activation='sigmoid') #8->units,reflects the dim of o/p\n",
        "])\n",
        "\n",
        "model.compile(\n",
        "    optimizer='adam',\n",
        "    loss='sparse_categorical_crossentropy',\n",
        "    metrics=['accuracy']\n",
        ")"
      ],
      "execution_count": 25,
      "outputs": []
    },
    {
      "cell_type": "code",
      "metadata": {
        "id": "3bEIMiKF2qW7"
      },
      "source": [
        ""
      ],
      "execution_count": 25,
      "outputs": []
    },
    {
      "cell_type": "code",
      "metadata": {
        "colab": {
          "base_uri": "https://localhost:8080/"
        },
        "id": "e_55FJkLwnVH",
        "outputId": "f717a026-178e-431f-a6b6-65f01d4cc490"
      },
      "source": [
        "model.fit(flat_x_train,y_train,epochs=5) \n",
        "#epochs is the no of times the model goes throufgh the particular training data\n"
      ],
      "execution_count": 26,
      "outputs": [
        {
          "output_type": "stream",
          "name": "stdout",
          "text": [
            "Epoch 1/5\n",
            "1875/1875 [==============================] - 3s 1ms/step - loss: 10.2348 - accuracy: 0.8375\n",
            "Epoch 2/5\n",
            "1875/1875 [==============================] - 2s 985us/step - loss: 6.1046 - accuracy: 0.8794\n",
            "Epoch 3/5\n",
            "1875/1875 [==============================] - 2s 980us/step - loss: 5.5743 - accuracy: 0.8841\n",
            "Epoch 4/5\n",
            "1875/1875 [==============================] - 2s 981us/step - loss: 5.5000 - accuracy: 0.8851\n",
            "Epoch 5/5\n",
            "1875/1875 [==============================] - 2s 1ms/step - loss: 5.3144 - accuracy: 0.8870\n"
          ]
        },
        {
          "output_type": "execute_result",
          "data": {
            "text/plain": [
              "<keras.callbacks.History at 0x7fdce30a1c90>"
            ]
          },
          "metadata": {},
          "execution_count": 26
        }
      ]
    },
    {
      "cell_type": "markdown",
      "metadata": {
        "id": "NLfBYO48rnur"
      },
      "source": [
        "# Feature Scaling"
      ]
    },
    {
      "cell_type": "code",
      "metadata": {
        "id": "NLY6NR3i26mc"
      },
      "source": [
        "new_x_train=x_train/255\n",
        "new_x_test=x_test/255\n"
      ],
      "execution_count": 27,
      "outputs": []
    },
    {
      "cell_type": "code",
      "metadata": {
        "id": "GMImXhbk2607"
      },
      "source": [
        "#Flattening the new_x_train and new_x_test\n",
        "flat_new_x_train=new_x_train.reshape(len(new_x_train),28*28)\n",
        "flat_new_x_test=new_x_test.reshape(len(new_x_test),28*28)"
      ],
      "execution_count": 28,
      "outputs": []
    },
    {
      "cell_type": "code",
      "metadata": {
        "id": "v45qtp-Z27Ln",
        "colab": {
          "base_uri": "https://localhost:8080/"
        },
        "outputId": "17150e33-d6cb-4eb0-e08f-752df668cf06"
      },
      "source": [
        "#for single hidden layer\n",
        "model=keras.Sequential([\n",
        "                        keras.layers.Dense(units=10,\n",
        "                                           input_shape=(784,),\n",
        "                                           activation='sigmoid') #8->units,reflects the dim of o/p\n",
        "])\n",
        "\n",
        "model.compile(\n",
        "    optimizer='adam',\n",
        "    loss='sparse_categorical_crossentropy',\n",
        "    metrics=['accuracy']\n",
        ")\n",
        "\n",
        "model.fit(flat_new_x_train,y_train,epochs=5)"
      ],
      "execution_count": 29,
      "outputs": [
        {
          "output_type": "stream",
          "name": "stdout",
          "text": [
            "Epoch 1/5\n",
            "1875/1875 [==============================] - 2s 955us/step - loss: 0.4733 - accuracy: 0.8750\n",
            "Epoch 2/5\n",
            "1875/1875 [==============================] - 2s 910us/step - loss: 0.3036 - accuracy: 0.9157\n",
            "Epoch 3/5\n",
            "1875/1875 [==============================] - 2s 900us/step - loss: 0.2831 - accuracy: 0.9202\n",
            "Epoch 4/5\n",
            "1875/1875 [==============================] - 2s 906us/step - loss: 0.2730 - accuracy: 0.9237\n",
            "Epoch 5/5\n",
            "1875/1875 [==============================] - 2s 915us/step - loss: 0.2665 - accuracy: 0.9262\n"
          ]
        },
        {
          "output_type": "execute_result",
          "data": {
            "text/plain": [
              "<keras.callbacks.History at 0x7fdce6cfd7d0>"
            ]
          },
          "metadata": {},
          "execution_count": 29
        }
      ]
    },
    {
      "cell_type": "code",
      "metadata": {
        "colab": {
          "base_uri": "https://localhost:8080/"
        },
        "id": "HBCtQQvgsrXz",
        "outputId": "ed72e0f9-41e2-4c8c-b802-b21ca4331ce7"
      },
      "source": [
        "model.evaluate(flat_new_x_test,y_test) #test data accuracy and loss"
      ],
      "execution_count": 32,
      "outputs": [
        {
          "output_type": "stream",
          "name": "stdout",
          "text": [
            "313/313 [==============================] - 0s 724us/step - loss: 0.2669 - accuracy: 0.9248\n"
          ]
        },
        {
          "output_type": "execute_result",
          "data": {
            "text/plain": [
              "[0.26686692237854004, 0.9247999787330627]"
            ]
          },
          "metadata": {},
          "execution_count": 32
        }
      ]
    },
    {
      "cell_type": "code",
      "metadata": {
        "id": "ZSckftmvsrlU"
      },
      "source": [
        "y_pred=model.predict(flat_new_x_test)"
      ],
      "execution_count": 33,
      "outputs": []
    },
    {
      "cell_type": "code",
      "metadata": {
        "colab": {
          "base_uri": "https://localhost:8080/"
        },
        "id": "0YsM3KO6sr20",
        "outputId": "cb5d46d9-dcf1-4f68-c2ec-e6f2585a6da4"
      },
      "source": [
        "y_pred[0] #strength(z values)"
      ],
      "execution_count": 36,
      "outputs": [
        {
          "output_type": "execute_result",
          "data": {
            "text/plain": [
              "array([3.0404985e-02, 3.7326126e-07, 5.3015381e-02, 9.4944632e-01,\n",
              "       2.0380616e-03, 1.2521583e-01, 1.3151333e-06, 9.9979770e-01,\n",
              "       1.0980597e-01, 6.2901664e-01], dtype=float32)"
            ]
          },
          "metadata": {},
          "execution_count": 36
        }
      ]
    },
    {
      "cell_type": "code",
      "metadata": {
        "colab": {
          "base_uri": "https://localhost:8080/"
        },
        "id": "a7ja4JQUtcUn",
        "outputId": "5b9a3d1f-91ca-4557-92b5-c96882ca3712"
      },
      "source": [
        "#taking the index of the highest value of z(y_pred[0])\n",
        "np.argmax(y_pred[0])"
      ],
      "execution_count": 39,
      "outputs": [
        {
          "output_type": "execute_result",
          "data": {
            "text/plain": [
              "7"
            ]
          },
          "metadata": {},
          "execution_count": 39
        }
      ]
    },
    {
      "cell_type": "code",
      "metadata": {
        "id": "0lPWqznItcpc"
      },
      "source": [
        "#to find the relationship\n",
        "y_pred_label=[np.argmax(i) for i in y_pred]"
      ],
      "execution_count": 42,
      "outputs": []
    },
    {
      "cell_type": "code",
      "metadata": {
        "colab": {
          "base_uri": "https://localhost:8080/"
        },
        "id": "lvrDAphmt7H9",
        "outputId": "a1e64279-6cf2-4946-e720-099b4e18416c"
      },
      "source": [
        "y_pred_label"
      ],
      "execution_count": 43,
      "outputs": [
        {
          "output_type": "execute_result",
          "data": {
            "text/plain": [
              "[7,\n",
              " 2,\n",
              " 1,\n",
              " 0,\n",
              " 4,\n",
              " 1,\n",
              " 4,\n",
              " 9,\n",
              " 6,\n",
              " 9,\n",
              " 0,\n",
              " 6,\n",
              " 9,\n",
              " 0,\n",
              " 1,\n",
              " 5,\n",
              " 9,\n",
              " 7,\n",
              " 3,\n",
              " 4,\n",
              " 9,\n",
              " 6,\n",
              " 6,\n",
              " 5,\n",
              " 4,\n",
              " 0,\n",
              " 7,\n",
              " 4,\n",
              " 0,\n",
              " 1,\n",
              " 3,\n",
              " 1,\n",
              " 3,\n",
              " 6,\n",
              " 7,\n",
              " 2,\n",
              " 7,\n",
              " 1,\n",
              " 2,\n",
              " 1,\n",
              " 1,\n",
              " 7,\n",
              " 4,\n",
              " 2,\n",
              " 3,\n",
              " 5,\n",
              " 1,\n",
              " 2,\n",
              " 4,\n",
              " 4,\n",
              " 6,\n",
              " 3,\n",
              " 5,\n",
              " 5,\n",
              " 6,\n",
              " 0,\n",
              " 4,\n",
              " 1,\n",
              " 9,\n",
              " 5,\n",
              " 7,\n",
              " 8,\n",
              " 9,\n",
              " 2,\n",
              " 7,\n",
              " 4,\n",
              " 2,\n",
              " 4,\n",
              " 3,\n",
              " 0,\n",
              " 7,\n",
              " 0,\n",
              " 2,\n",
              " 9,\n",
              " 1,\n",
              " 7,\n",
              " 3,\n",
              " 2,\n",
              " 9,\n",
              " 7,\n",
              " 7,\n",
              " 6,\n",
              " 2,\n",
              " 7,\n",
              " 8,\n",
              " 4,\n",
              " 7,\n",
              " 3,\n",
              " 6,\n",
              " 1,\n",
              " 3,\n",
              " 6,\n",
              " 4,\n",
              " 3,\n",
              " 1,\n",
              " 4,\n",
              " 1,\n",
              " 7,\n",
              " 6,\n",
              " 9,\n",
              " 6,\n",
              " 0,\n",
              " 5,\n",
              " 4,\n",
              " 9,\n",
              " 9,\n",
              " 2,\n",
              " 1,\n",
              " 9,\n",
              " 4,\n",
              " 8,\n",
              " 7,\n",
              " 3,\n",
              " 9,\n",
              " 7,\n",
              " 4,\n",
              " 4,\n",
              " 4,\n",
              " 9,\n",
              " 2,\n",
              " 5,\n",
              " 4,\n",
              " 7,\n",
              " 6,\n",
              " 4,\n",
              " 9,\n",
              " 0,\n",
              " 5,\n",
              " 8,\n",
              " 5,\n",
              " 6,\n",
              " 6,\n",
              " 5,\n",
              " 7,\n",
              " 8,\n",
              " 1,\n",
              " 0,\n",
              " 1,\n",
              " 6,\n",
              " 4,\n",
              " 6,\n",
              " 7,\n",
              " 3,\n",
              " 1,\n",
              " 7,\n",
              " 1,\n",
              " 8,\n",
              " 2,\n",
              " 0,\n",
              " 9,\n",
              " 9,\n",
              " 9,\n",
              " 5,\n",
              " 5,\n",
              " 1,\n",
              " 5,\n",
              " 6,\n",
              " 0,\n",
              " 3,\n",
              " 4,\n",
              " 4,\n",
              " 6,\n",
              " 5,\n",
              " 4,\n",
              " 6,\n",
              " 5,\n",
              " 4,\n",
              " 5,\n",
              " 1,\n",
              " 4,\n",
              " 4,\n",
              " 7,\n",
              " 2,\n",
              " 3,\n",
              " 2,\n",
              " 7,\n",
              " 1,\n",
              " 8,\n",
              " 1,\n",
              " 8,\n",
              " 1,\n",
              " 8,\n",
              " 5,\n",
              " 0,\n",
              " 8,\n",
              " 9,\n",
              " 2,\n",
              " 5,\n",
              " 0,\n",
              " 1,\n",
              " 1,\n",
              " 1,\n",
              " 0,\n",
              " 3,\n",
              " 0,\n",
              " 8,\n",
              " 1,\n",
              " 6,\n",
              " 4,\n",
              " 2,\n",
              " 3,\n",
              " 6,\n",
              " 1,\n",
              " 1,\n",
              " 1,\n",
              " 3,\n",
              " 9,\n",
              " 5,\n",
              " 2,\n",
              " 9,\n",
              " 4,\n",
              " 7,\n",
              " 9,\n",
              " 3,\n",
              " 9,\n",
              " 0,\n",
              " 3,\n",
              " 5,\n",
              " 5,\n",
              " 5,\n",
              " 7,\n",
              " 2,\n",
              " 2,\n",
              " 7,\n",
              " 1,\n",
              " 2,\n",
              " 8,\n",
              " 4,\n",
              " 1,\n",
              " 7,\n",
              " 3,\n",
              " 3,\n",
              " 8,\n",
              " 7,\n",
              " 7,\n",
              " 9,\n",
              " 2,\n",
              " 2,\n",
              " 4,\n",
              " 1,\n",
              " 5,\n",
              " 8,\n",
              " 8,\n",
              " 7,\n",
              " 2,\n",
              " 5,\n",
              " 0,\n",
              " 6,\n",
              " 4,\n",
              " 2,\n",
              " 4,\n",
              " 1,\n",
              " 9,\n",
              " 5,\n",
              " 7,\n",
              " 7,\n",
              " 2,\n",
              " 8,\n",
              " 2,\n",
              " 0,\n",
              " 8,\n",
              " 5,\n",
              " 7,\n",
              " 7,\n",
              " 9,\n",
              " 1,\n",
              " 8,\n",
              " 1,\n",
              " 8,\n",
              " 0,\n",
              " 3,\n",
              " 0,\n",
              " 1,\n",
              " 9,\n",
              " 9,\n",
              " 4,\n",
              " 1,\n",
              " 8,\n",
              " 2,\n",
              " 1,\n",
              " 2,\n",
              " 9,\n",
              " 7,\n",
              " 5,\n",
              " 9,\n",
              " 2,\n",
              " 6,\n",
              " 4,\n",
              " 1,\n",
              " 5,\n",
              " 4,\n",
              " 2,\n",
              " 9,\n",
              " 2,\n",
              " 0,\n",
              " 4,\n",
              " 0,\n",
              " 0,\n",
              " 2,\n",
              " 8,\n",
              " 6,\n",
              " 7,\n",
              " 1,\n",
              " 2,\n",
              " 4,\n",
              " 0,\n",
              " 2,\n",
              " 7,\n",
              " 4,\n",
              " 3,\n",
              " 3,\n",
              " 0,\n",
              " 0,\n",
              " 3,\n",
              " 1,\n",
              " 9,\n",
              " 6,\n",
              " 5,\n",
              " 3,\n",
              " 5,\n",
              " 7,\n",
              " 7,\n",
              " 9,\n",
              " 3,\n",
              " 0,\n",
              " 4,\n",
              " 2,\n",
              " 0,\n",
              " 7,\n",
              " 1,\n",
              " 1,\n",
              " 2,\n",
              " 1,\n",
              " 5,\n",
              " 3,\n",
              " 3,\n",
              " 4,\n",
              " 7,\n",
              " 8,\n",
              " 6,\n",
              " 3,\n",
              " 6,\n",
              " 1,\n",
              " 3,\n",
              " 8,\n",
              " 1,\n",
              " 0,\n",
              " 5,\n",
              " 1,\n",
              " 3,\n",
              " 1,\n",
              " 5,\n",
              " 0,\n",
              " 6,\n",
              " 1,\n",
              " 8,\n",
              " 5,\n",
              " 1,\n",
              " 7,\n",
              " 4,\n",
              " 4,\n",
              " 6,\n",
              " 7,\n",
              " 2,\n",
              " 5,\n",
              " 0,\n",
              " 6,\n",
              " 5,\n",
              " 6,\n",
              " 3,\n",
              " 7,\n",
              " 2,\n",
              " 0,\n",
              " 8,\n",
              " 8,\n",
              " 5,\n",
              " 4,\n",
              " 1,\n",
              " 1,\n",
              " 4,\n",
              " 0,\n",
              " 7,\n",
              " 3,\n",
              " 7,\n",
              " 6,\n",
              " 1,\n",
              " 6,\n",
              " 2,\n",
              " 1,\n",
              " 9,\n",
              " 2,\n",
              " 5,\n",
              " 6,\n",
              " 1,\n",
              " 9,\n",
              " 5,\n",
              " 2,\n",
              " 5,\n",
              " 4,\n",
              " 4,\n",
              " 2,\n",
              " 8,\n",
              " 3,\n",
              " 8,\n",
              " 2,\n",
              " 4,\n",
              " 5,\n",
              " 0,\n",
              " 3,\n",
              " 1,\n",
              " 7,\n",
              " 7,\n",
              " 3,\n",
              " 7,\n",
              " 9,\n",
              " 7,\n",
              " 1,\n",
              " 9,\n",
              " 2,\n",
              " 1,\n",
              " 4,\n",
              " 2,\n",
              " 9,\n",
              " 2,\n",
              " 0,\n",
              " 4,\n",
              " 9,\n",
              " 1,\n",
              " 4,\n",
              " 8,\n",
              " 1,\n",
              " 8,\n",
              " 4,\n",
              " 5,\n",
              " 9,\n",
              " 7,\n",
              " 8,\n",
              " 3,\n",
              " 7,\n",
              " 6,\n",
              " 0,\n",
              " 0,\n",
              " 3,\n",
              " 0,\n",
              " 8,\n",
              " 0,\n",
              " 6,\n",
              " 4,\n",
              " 8,\n",
              " 3,\n",
              " 3,\n",
              " 3,\n",
              " 2,\n",
              " 3,\n",
              " 9,\n",
              " 1,\n",
              " 2,\n",
              " 6,\n",
              " 8,\n",
              " 0,\n",
              " 5,\n",
              " 6,\n",
              " 6,\n",
              " 6,\n",
              " 3,\n",
              " 8,\n",
              " 8,\n",
              " 2,\n",
              " 7,\n",
              " 5,\n",
              " 8,\n",
              " 9,\n",
              " 6,\n",
              " 1,\n",
              " 8,\n",
              " 4,\n",
              " 1,\n",
              " 2,\n",
              " 8,\n",
              " 3,\n",
              " 1,\n",
              " 9,\n",
              " 7,\n",
              " 5,\n",
              " 4,\n",
              " 0,\n",
              " 8,\n",
              " 9,\n",
              " 9,\n",
              " 1,\n",
              " 0,\n",
              " 5,\n",
              " 2,\n",
              " 3,\n",
              " 7,\n",
              " 8,\n",
              " 9,\n",
              " 4,\n",
              " 0,\n",
              " 6,\n",
              " 3,\n",
              " 9,\n",
              " 3,\n",
              " 2,\n",
              " 1,\n",
              " 3,\n",
              " 1,\n",
              " 5,\n",
              " 6,\n",
              " 5,\n",
              " 7,\n",
              " 8,\n",
              " 2,\n",
              " 2,\n",
              " 6,\n",
              " 3,\n",
              " 2,\n",
              " 6,\n",
              " 5,\n",
              " 4,\n",
              " 8,\n",
              " 9,\n",
              " 7,\n",
              " 1,\n",
              " 3,\n",
              " 0,\n",
              " 3,\n",
              " 8,\n",
              " 3,\n",
              " 1,\n",
              " 4,\n",
              " 6,\n",
              " 4,\n",
              " 4,\n",
              " 6,\n",
              " 4,\n",
              " 1,\n",
              " 1,\n",
              " 8,\n",
              " 2,\n",
              " 5,\n",
              " 4,\n",
              " 2,\n",
              " 3,\n",
              " 4,\n",
              " 0,\n",
              " 0,\n",
              " 2,\n",
              " 3,\n",
              " 2,\n",
              " 7,\n",
              " 1,\n",
              " 0,\n",
              " 8,\n",
              " 7,\n",
              " 4,\n",
              " 4,\n",
              " 7,\n",
              " 9,\n",
              " 6,\n",
              " 9,\n",
              " 0,\n",
              " 9,\n",
              " 8,\n",
              " 0,\n",
              " 9,\n",
              " 6,\n",
              " 0,\n",
              " 6,\n",
              " 5,\n",
              " 5,\n",
              " 4,\n",
              " 8,\n",
              " 3,\n",
              " 3,\n",
              " 9,\n",
              " 3,\n",
              " 3,\n",
              " 2,\n",
              " 7,\n",
              " 8,\n",
              " 0,\n",
              " 2,\n",
              " 8,\n",
              " 1,\n",
              " 7,\n",
              " 0,\n",
              " 6,\n",
              " 5,\n",
              " 4,\n",
              " 3,\n",
              " 3,\n",
              " 0,\n",
              " 9,\n",
              " 6,\n",
              " 3,\n",
              " 8,\n",
              " 0,\n",
              " 9,\n",
              " 9,\n",
              " 6,\n",
              " 8,\n",
              " 6,\n",
              " 8,\n",
              " 5,\n",
              " 7,\n",
              " 8,\n",
              " 6,\n",
              " 0,\n",
              " 2,\n",
              " 6,\n",
              " 0,\n",
              " 2,\n",
              " 8,\n",
              " 3,\n",
              " 1,\n",
              " 9,\n",
              " 7,\n",
              " 5,\n",
              " 8,\n",
              " 0,\n",
              " 8,\n",
              " 4,\n",
              " 6,\n",
              " 2,\n",
              " 6,\n",
              " 7,\n",
              " 4,\n",
              " 9,\n",
              " 6,\n",
              " 9,\n",
              " 8,\n",
              " 2,\n",
              " 2,\n",
              " 9,\n",
              " 2,\n",
              " 7,\n",
              " 3,\n",
              " 5,\n",
              " 9,\n",
              " 1,\n",
              " 8,\n",
              " 0,\n",
              " 2,\n",
              " 0,\n",
              " 5,\n",
              " 2,\n",
              " 1,\n",
              " 3,\n",
              " 7,\n",
              " 6,\n",
              " 7,\n",
              " 1,\n",
              " 2,\n",
              " 5,\n",
              " 8,\n",
              " 0,\n",
              " 3,\n",
              " 7,\n",
              " 8,\n",
              " 4,\n",
              " 0,\n",
              " 9,\n",
              " 1,\n",
              " 8,\n",
              " 6,\n",
              " 7,\n",
              " 7,\n",
              " 4,\n",
              " 3,\n",
              " 4,\n",
              " 9,\n",
              " 1,\n",
              " 9,\n",
              " 5,\n",
              " 1,\n",
              " 7,\n",
              " 3,\n",
              " 9,\n",
              " 7,\n",
              " 6,\n",
              " 9,\n",
              " 1,\n",
              " 3,\n",
              " 3,\n",
              " 8,\n",
              " 3,\n",
              " 3,\n",
              " 6,\n",
              " 7,\n",
              " 2,\n",
              " 4,\n",
              " 5,\n",
              " 8,\n",
              " 5,\n",
              " 1,\n",
              " 1,\n",
              " 4,\n",
              " 4,\n",
              " 3,\n",
              " 1,\n",
              " 0,\n",
              " 7,\n",
              " 7,\n",
              " 0,\n",
              " 7,\n",
              " 9,\n",
              " 9,\n",
              " 4,\n",
              " 8,\n",
              " 5,\n",
              " 5,\n",
              " 4,\n",
              " 0,\n",
              " 8,\n",
              " 2,\n",
              " 1,\n",
              " 6,\n",
              " 8,\n",
              " 4,\n",
              " 2,\n",
              " 0,\n",
              " 4,\n",
              " 0,\n",
              " 6,\n",
              " 1,\n",
              " 7,\n",
              " 3,\n",
              " 8,\n",
              " 6,\n",
              " 7,\n",
              " 2,\n",
              " 6,\n",
              " 9,\n",
              " 3,\n",
              " 1,\n",
              " 4,\n",
              " 6,\n",
              " 8,\n",
              " 5,\n",
              " 9,\n",
              " 8,\n",
              " 0,\n",
              " 6,\n",
              " 2,\n",
              " 1,\n",
              " 7,\n",
              " 3,\n",
              " 4,\n",
              " 1,\n",
              " 0,\n",
              " 5,\n",
              " 4,\n",
              " 3,\n",
              " 1,\n",
              " 1,\n",
              " 7,\n",
              " 4,\n",
              " 9,\n",
              " 9,\n",
              " 9,\n",
              " 8,\n",
              " 4,\n",
              " 0,\n",
              " 2,\n",
              " 4,\n",
              " 5,\n",
              " 1,\n",
              " 1,\n",
              " 6,\n",
              " 4,\n",
              " 7,\n",
              " 1,\n",
              " 9,\n",
              " 4,\n",
              " 2,\n",
              " 4,\n",
              " 1,\n",
              " 5,\n",
              " 5,\n",
              " 3,\n",
              " 8,\n",
              " 3,\n",
              " 1,\n",
              " 4,\n",
              " 5,\n",
              " 6,\n",
              " 8,\n",
              " 9,\n",
              " 4,\n",
              " 1,\n",
              " 9,\n",
              " 3,\n",
              " 8,\n",
              " 0,\n",
              " 3,\n",
              " 2,\n",
              " 5,\n",
              " 1,\n",
              " 2,\n",
              " 8,\n",
              " 3,\n",
              " 4,\n",
              " 4,\n",
              " 0,\n",
              " 8,\n",
              " 8,\n",
              " 3,\n",
              " 3,\n",
              " 1,\n",
              " 7,\n",
              " 3,\n",
              " 5,\n",
              " 9,\n",
              " 6,\n",
              " 3,\n",
              " 2,\n",
              " 6,\n",
              " 1,\n",
              " 3,\n",
              " 6,\n",
              " 0,\n",
              " 7,\n",
              " 2,\n",
              " 1,\n",
              " 7,\n",
              " 1,\n",
              " 4,\n",
              " 2,\n",
              " 8,\n",
              " 2,\n",
              " 1,\n",
              " 7,\n",
              " 9,\n",
              " 6,\n",
              " 1,\n",
              " 1,\n",
              " 2,\n",
              " 4,\n",
              " 3,\n",
              " 1,\n",
              " 7,\n",
              " 7,\n",
              " 4,\n",
              " 7,\n",
              " 0,\n",
              " 7,\n",
              " 3,\n",
              " 1,\n",
              " 3,\n",
              " 1,\n",
              " 0,\n",
              " 7,\n",
              " 7,\n",
              " 0,\n",
              " 3,\n",
              " 5,\n",
              " 3,\n",
              " 2,\n",
              " 7,\n",
              " 6,\n",
              " 6,\n",
              " 9,\n",
              " 2,\n",
              " 8,\n",
              " 3,\n",
              " 5,\n",
              " 2,\n",
              " 2,\n",
              " 5,\n",
              " 6,\n",
              " 0,\n",
              " 8,\n",
              " 2,\n",
              " 9,\n",
              " 2,\n",
              " 8,\n",
              " 2,\n",
              " 8,\n",
              " 8,\n",
              " 7,\n",
              " 9,\n",
              " 7,\n",
              " 3,\n",
              " 0,\n",
              " 6,\n",
              " 6,\n",
              " 3,\n",
              " 2,\n",
              " 1,\n",
              " 5,\n",
              " 2,\n",
              " 2,\n",
              " 9,\n",
              " 3,\n",
              " 0,\n",
              " 0,\n",
              " 5,\n",
              " 2,\n",
              " 8,\n",
              " 1,\n",
              " 4,\n",
              " 4,\n",
              " 6,\n",
              " 0,\n",
              " 2,\n",
              " 9,\n",
              " 1,\n",
              " 4,\n",
              " 7,\n",
              " 4,\n",
              " 7,\n",
              " 3,\n",
              " 9,\n",
              " 8,\n",
              " 8,\n",
              " 4,\n",
              " 7,\n",
              " 1,\n",
              " 2,\n",
              " 1,\n",
              " 2,\n",
              " 2,\n",
              " 3,\n",
              " 7,\n",
              " 3,\n",
              " 2,\n",
              " 3,\n",
              " 9,\n",
              " 1,\n",
              " 7,\n",
              " 4,\n",
              " 0,\n",
              " 3,\n",
              " 5,\n",
              " 5,\n",
              " 8,\n",
              " 6,\n",
              " 5,\n",
              " 5,\n",
              " 6,\n",
              " 7,\n",
              " 6,\n",
              " 6,\n",
              " 3,\n",
              " 2,\n",
              " 7,\n",
              " 9,\n",
              " 1,\n",
              " 1,\n",
              " 2,\n",
              " 4,\n",
              " 6,\n",
              " 4,\n",
              " 9,\n",
              " 5,\n",
              " 6,\n",
              " 3,\n",
              " 3,\n",
              " 4,\n",
              " 7,\n",
              " 8,\n",
              " 9,\n",
              " 1,\n",
              " 1,\n",
              " 0,\n",
              " 9,\n",
              " 1,\n",
              " 4,\n",
              " 4,\n",
              " 5,\n",
              " 4,\n",
              " 0,\n",
              " 6,\n",
              " 2,\n",
              " 3,\n",
              " 3,\n",
              " 1,\n",
              " 5,\n",
              " 1,\n",
              " 2,\n",
              " 0,\n",
              " 8,\n",
              " 8,\n",
              " 1,\n",
              " 2,\n",
              " 6,\n",
              " 7,\n",
              " 1,\n",
              " 6,\n",
              " 2,\n",
              " 3,\n",
              " 9,\n",
              " 0,\n",
              " 1,\n",
              " 2,\n",
              " 2,\n",
              " 0,\n",
              " 8,\n",
              " 7,\n",
              " ...]"
            ]
          },
          "metadata": {},
          "execution_count": 43
        }
      ]
    },
    {
      "cell_type": "code",
      "metadata": {
        "id": "I8Vao65Nt7Lf"
      },
      "source": [
        "#Confusion matrix\n",
        "cm=tf.math.confusion_matrix(labels=y_test,predictions=y_pred_label)"
      ],
      "execution_count": 45,
      "outputs": []
    },
    {
      "cell_type": "code",
      "metadata": {
        "colab": {
          "base_uri": "https://localhost:8080/",
          "height": 623
        },
        "id": "5k_DUp_kvI43",
        "outputId": "d7505ff9-4f9b-477c-ae02-f2a067182757"
      },
      "source": [
        "plt.figure(figsize=(10,10))\n",
        "sns.heatmap(cm,annot=True,fmt='d')\n",
        "plt.xlabel('Actual Value')\n",
        "plt.ylabel('Predicted Value')\n",
        "#no of times the model has predicted the correct value"
      ],
      "execution_count": 49,
      "outputs": [
        {
          "output_type": "execute_result",
          "data": {
            "text/plain": [
              "Text(69.0, 0.5, 'Predicted Value')"
            ]
          },
          "metadata": {},
          "execution_count": 49
        },
        {
          "output_type": "display_data",
          "data": {
            "image/png": "[encoded data removed]",
            "text/plain": [
              "<Figure size 720x720 with 2 Axes>"
            ]
          },
          "metadata": {
            "needs_background": "light"
          }
        }
      ]
    },
    {
      "cell_type": "markdown",
      "metadata": {
        "id": "MZRJS6zKwSkh"
      },
      "source": [
        "# For Multiple Hidden Layers "
      ]
    },
    {
      "cell_type": "code",
      "metadata": {
        "colab": {
          "base_uri": "https://localhost:8080/"
        },
        "id": "wNrRxqNLtc2M",
        "outputId": "00792a52-45ec-4e7c-d1c1-6f9326a0a281"
      },
      "source": [
        "model=keras.Sequential([\n",
        "                        keras.layers.Dense(units=100,\n",
        "                                           input_shape=(784,),\n",
        "                                           activation='sigmoid'), #8->units,reflects the dim of o/p\n",
        "                        #second hidden layer\n",
        "                        keras.layers.Dense(units=100,\n",
        "                                           activation='sigmoid')\n",
        "\n",
        "])\n",
        "\n",
        "model.compile(\n",
        "    optimizer='adam',\n",
        "    loss='sparse_categorical_crossentropy',\n",
        "    metrics=['accuracy']\n",
        ")\n",
        "\n",
        "model.fit(flat_new_x_train,y_train,epochs=5)\n",
        "#more the hidden layers,higher the accuracy"
      ],
      "execution_count": 54,
      "outputs": [
        {
          "output_type": "stream",
          "name": "stdout",
          "text": [
            "Epoch 1/5\n",
            "1875/1875 [==============================] - 3s 2ms/step - loss: 0.4888 - accuracy: 0.8833\n",
            "Epoch 2/5\n",
            "1875/1875 [==============================] - 3s 2ms/step - loss: 0.2097 - accuracy: 0.9392\n",
            "Epoch 3/5\n",
            "1875/1875 [==============================] - 3s 2ms/step - loss: 0.1577 - accuracy: 0.9538\n",
            "Epoch 4/5\n",
            "1875/1875 [==============================] - 3s 2ms/step - loss: 0.1252 - accuracy: 0.9642\n",
            "Epoch 5/5\n",
            "1875/1875 [==============================] - 3s 2ms/step - loss: 0.1031 - accuracy: 0.9703\n"
          ]
        },
        {
          "output_type": "execute_result",
          "data": {
            "text/plain": [
              "<keras.callbacks.History at 0x7fdcdf18be10>"
            ]
          },
          "metadata": {},
          "execution_count": 54
        }
      ]
    },
    {
      "cell_type": "code",
      "metadata": {
        "colab": {
          "base_uri": "https://localhost:8080/"
        },
        "id": "rwltopnWwF0T",
        "outputId": "6008e8f9-e365-4b23-9bdd-eb09aa19397f"
      },
      "source": [
        "model=keras.Sequential([keras.layers.Flatten(input_shape=(28,28)),\n",
        "                        keras.layers.Dense(units=100,\n",
        "                                           input_shape=(784,),\n",
        "                                           activation='sigmoid'), #8->units,reflects the dim of o/p\n",
        "                        #second hidden layer\n",
        "                        keras.layers.Dense(units=100,\n",
        "                                           activation='sigmoid')\n",
        "\n",
        "])\n",
        "\n",
        "model.compile(\n",
        "    optimizer='adam',\n",
        "    loss='sparse_categorical_crossentropy',\n",
        "    metrics=['accuracy']\n",
        ")\n",
        "\n",
        "model.fit(x_train,y_train,epochs=5)\n",
        "#more the hidden layers,higher the accuracy"
      ],
      "execution_count": 56,
      "outputs": [
        {
          "output_type": "stream",
          "name": "stdout",
          "text": [
            "Epoch 1/5\n",
            "1875/1875 [==============================] - 3s 2ms/step - loss: 0.6148 - accuracy: 0.8437\n",
            "Epoch 2/5\n",
            "1875/1875 [==============================] - 3s 2ms/step - loss: 0.3613 - accuracy: 0.8951\n",
            "Epoch 3/5\n",
            "1875/1875 [==============================] - 3s 2ms/step - loss: 0.3296 - accuracy: 0.9025\n",
            "Epoch 4/5\n",
            "1875/1875 [==============================] - 3s 2ms/step - loss: 0.3127 - accuracy: 0.9067\n",
            "Epoch 5/5\n",
            "1875/1875 [==============================] - 3s 2ms/step - loss: 0.3084 - accuracy: 0.9071\n"
          ]
        },
        {
          "output_type": "execute_result",
          "data": {
            "text/plain": [
              "<keras.callbacks.History at 0x7fdcdedf6090>"
            ]
          },
          "metadata": {},
          "execution_count": 56
        }
      ]
    },
    {
      "cell_type": "code",
      "metadata": {
        "id": "LLEAqJkmwF9K"
      },
      "source": [
        ""
      ],
      "execution_count": null,
      "outputs": []
    }
  ]
}